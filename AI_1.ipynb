{
  "nbformat": 4,
  "nbformat_minor": 0,
  "metadata": {
    "colab": {
      "name": "AI-1.ipynb",
      "provenance": [],
      "authorship_tag": "ABX9TyPVs5KwKkZuR6x5WnCiAO+X",
      "include_colab_link": true
    },
    "kernelspec": {
      "name": "python3",
      "display_name": "Python 3"
    }
  },
  "cells": [
    {
      "cell_type": "markdown",
      "metadata": {
        "id": "view-in-github",
        "colab_type": "text"
      },
      "source": [
        "<a href=\"https://colab.research.google.com/github/18K41A0247/ASSIGNMENT-1/blob/master/AI_1.ipynb\" target=\"_parent\"><img src=\"https://colab.research.google.com/assets/colab-badge.svg\" alt=\"Open In Colab\"/></a>"
      ]
    },
    {
      "cell_type": "markdown",
      "metadata": {
        "id": "yGG2GJtVLKJb",
        "colab_type": "text"
      },
      "source": [
        "1.\tDevelop a code for below scenario\n",
        " \n"
      ]
    },
    {
      "cell_type": "code",
      "metadata": {
        "id": "W9_O6wd5G7aX",
        "colab_type": "code",
        "colab": {
          "base_uri": "https://localhost:8080/",
          "height": 67
        },
        "outputId": "eaa31fa5-80ba-4341-a043-0a770f3a4e2a"
      },
      "source": [
        "year=int(input(\"enter year\\n\"))\n",
        "n={0:\"monkey\",1:\"rooster\",2:\"dog\",3:\"pig\",4:\"rat\",5:\"ox\",6:\"tiger\",7:\"rabbit\",8:\"dragon\",9:\"snake\",10:\"horse\",11:\"sheep\"}\n",
        "x=year%12\n",
        "print(n[x])"
      ],
      "execution_count": null,
      "outputs": [
        {
          "output_type": "stream",
          "text": [
            "enter year\n",
            "2000\n",
            "dragon\n"
          ],
          "name": "stdout"
        }
      ]
    },
    {
      "cell_type": "markdown",
      "metadata": {
        "id": "SAdLPtkcMe9_",
        "colab_type": "text"
      },
      "source": [
        "2.\tA Quick Fox Transport Co. wants to develop an application for calculating amount based on distance and weight of goods. The charges (Amount) to be calculated as per rates given below. \n",
        " \n"
      ]
    },
    {
      "cell_type": "code",
      "metadata": {
        "id": "xMZ2NCGLMqx3",
        "colab_type": "code",
        "colab": {
          "base_uri": "https://localhost:8080/",
          "height": 101
        },
        "outputId": "f51513a6-27c9-4fcc-cead-55f0708f40ee"
      },
      "source": [
        "d=int(input(\"enter the distance\\n\"))\n",
        "w=int(input(\"enter weight\\n\"))\n",
        "if d>=500:\n",
        "  if w>=100:\n",
        "    amount=d*5\n",
        "  if w>=10 and w<=100:\n",
        "    amount=d*6\n",
        "  if w<7:\n",
        "    amount=d*7\n",
        "else :\n",
        "  if w>=100:\n",
        "    amount=d*8\n",
        "  else :\n",
        "    amount=d*5    \n",
        "print(\"amount to be charged\",amount)"
      ],
      "execution_count": null,
      "outputs": [
        {
          "output_type": "stream",
          "text": [
            "enter the distance\n",
            "520\n",
            "enter weight\n",
            "50\n",
            "amount to be charged 3120\n"
          ],
          "name": "stdout"
        }
      ]
    },
    {
      "cell_type": "markdown",
      "metadata": {
        "id": "9QnYW1hCPZn0",
        "colab_type": "text"
      },
      "source": [
        "3.\tThe Entertainment Paradise\n",
        "\n",
        " A theater in Delhi wants to develop a computerized Booking System. The theater offers different types of seats. The Ticket rates are- Stalls- Rs. 625/-, Circle- Rs.750/-, Upper Class- Rs.850/- and Box- Rs.1000/-. A discount is given 10% of total amount if tickets are purchased on Cash. In case of credit card holders 5% discount is given. \n"
      ]
    },
    {
      "cell_type": "code",
      "metadata": {
        "id": "3DDT8iMZPifY",
        "colab_type": "code",
        "colab": {
          "base_uri": "https://localhost:8080/",
          "height": 101
        },
        "outputId": "0ec3a951-6e33-4d6a-a6fb-3c16a138a0f6"
      },
      "source": [
        "seats=str(input(\"enter the type of seat\\n\"))\n",
        "s={\"stalls\":625,\"circle\":750,\"upper class\":850,\"box\":1000}\n",
        "paymentmode=str(input(\"enter payment mode\\n\"))\n",
        "p={\"cash\":0.1,\"credit card\":0.05}\n",
        "cost=s[seats]-(s[seats]*p[paymentmode])\n",
        "print(\"cost of ticket:\",cost,\"₹\")"
      ],
      "execution_count": null,
      "outputs": [
        {
          "output_type": "stream",
          "text": [
            "enter the type of seat\n",
            "circle\n",
            "enter payment mode\n",
            "cash\n",
            "cost of ticket: 675.0 ₹\n"
          ],
          "name": "stdout"
        }
      ]
    },
    {
      "cell_type": "markdown",
      "metadata": {
        "id": "R5FzLBLqPxlo",
        "colab_type": "text"
      },
      "source": [
        "4.\tDevelop a program that calculates the energy needed to heat water from an initial temperature to a final temperature. Your program should prompt the user to enter the amount of water in kilograms and the initial and final temperatures of the water. The formula to compute the energy is \n",
        "Q = M * (finalTemperature – initialTemperature) * 4184.\n",
        "where M is the weight of water in kilograms, temperatures are in degrees Celsius,  and energy Q is measured in joules. (L6)\n"
      ]
    },
    {
      "cell_type": "code",
      "metadata": {
        "id": "oshEthu0P5BJ",
        "colab_type": "code",
        "colab": {
          "base_uri": "https://localhost:8080/",
          "height": 134
        },
        "outputId": "00d110f4-91de-4541-9ac7-fe67a4fbdd2c"
      },
      "source": [
        "m=int(input(\"enter the weight of water in kg\\n\"))\n",
        "it=int(input(\"enter the initial temperature\\n\"))\n",
        "ft=int(input(\"enter the final temperature\\n\"))\n",
        "q=m*(ft-it)*4184\n",
        "print(\"total energy consumed is\",q,\"j\")"
      ],
      "execution_count": null,
      "outputs": [
        {
          "output_type": "stream",
          "text": [
            "enter the weight of water in kg\n",
            "15\n",
            "enter the initial temperature\n",
            "10\n",
            "enter the final temperature\n",
            "80\n",
            "total energy consumed is 4393200 j\n"
          ],
          "name": "stdout"
        }
      ]
    },
    {
      "cell_type": "markdown",
      "metadata": {
        "id": "hIMY_RraQstQ",
        "colab_type": "text"
      },
      "source": [
        "5.\tDevelop a program that prompts user to enter month and  print \n",
        "a.\t“Winter ” -   December ,January and February\n",
        "b.\t“Spring”  -   March ,April and May\n",
        "c.\t“Summer”  --- June ,July, August\n",
        "d.\t“Autumn ”  -- September ,October, November\n"
      ]
    },
    {
      "cell_type": "code",
      "metadata": {
        "id": "CxqIDbwFQ2Qh",
        "colab_type": "code",
        "colab": {
          "base_uri": "https://localhost:8080/",
          "height": 67
        },
        "outputId": "5f9cefe0-0b2c-40ce-f3e2-c0f5eb16b1fb"
      },
      "source": [
        "month=str(input(\"enter the month\\n\"))\n",
        "m={\"january\":\"winter\",\"february\":\"winter\",\"march\":\"spring\",\"april\":\"spring\",\"may\":\"spring\",\"june\":\"summer\",\"july\":\"summer\",\"august\":\"summer\",\"september\":\"autumn\",\"october\":\"autumn\",\"november\":\"autumn\",\"december\":\"winter\"}\n",
        "print(m[month])"
      ],
      "execution_count": null,
      "outputs": [
        {
          "output_type": "stream",
          "text": [
            "enter the month\n",
            "august\n",
            "summer\n"
          ],
          "name": "stdout"
        }
      ]
    },
    {
      "cell_type": "markdown",
      "metadata": {
        "id": "GER_-ByORfvI",
        "colab_type": "text"
      },
      "source": [
        "6.\tBody Mass Index\n",
        " \n"
      ]
    },
    {
      "cell_type": "code",
      "metadata": {
        "id": "LoSjDtLIRoQh",
        "colab_type": "code",
        "colab": {
          "base_uri": "https://localhost:8080/",
          "height": 118
        },
        "outputId": "2fdf7ad6-c684-4f06-b68e-39432d34f2a5"
      },
      "source": [
        "w=float(input(\"enter weight in pounds\\n\"))\n",
        "h=float(input(\"enter height in inches\\n\"))\n",
        "BMI=(w*0.45359237)/((h*0.0254)**2)\n",
        "print(\"BMI is\",BMI)\n",
        "if BMI<18.5:\n",
        "  print(\"underweight\")\n",
        "elif BMI>=18.5 and BMI<25.0:\n",
        "  print(\"normal\")\n",
        "elif BMI>=25.0 and BMI<30.0:\n",
        "  print(\"overweight\")\n",
        "elif BMI>=30.0:\n",
        "  print(\"obese\")"
      ],
      "execution_count": null,
      "outputs": [
        {
          "output_type": "stream",
          "text": [
            "enter weight in pounds\n",
            "132\n",
            "enter height in inches\n",
            "68\n",
            "BMI is 20.070325370322028\n",
            "normal\n"
          ],
          "name": "stdout"
        }
      ]
    },
    {
      "cell_type": "markdown",
      "metadata": {
        "id": "h2XJbMGhTPyz",
        "colab_type": "text"
      },
      "source": [
        "7.\tWrite a program that reads an integer between 100 and 1000 and adds all the digits in the integer "
      ]
    },
    {
      "cell_type": "code",
      "metadata": {
        "id": "mA--HQahTROx",
        "colab_type": "code",
        "colab": {
          "base_uri": "https://localhost:8080/",
          "height": 50
        },
        "outputId": "c66871b0-6aa9-46b2-ad1c-5af77ae302fa"
      },
      "source": [
        "num=int(input(\"enter a number between 100 and 1000 :\"))\n",
        "sum=0\n",
        "while(num>0):\n",
        "  r=num%10\n",
        "  sum=sum+r\n",
        "  num=num//10\n",
        "print(sum)\n"
      ],
      "execution_count": null,
      "outputs": [
        {
          "output_type": "stream",
          "text": [
            "enter a number between 100 and 1000 :745\n",
            "16\n"
          ],
          "name": "stdout"
        }
      ]
    },
    {
      "cell_type": "markdown",
      "metadata": {
        "id": "5r0I7rMCTRsg",
        "colab_type": "text"
      },
      "source": [
        "8.\tPrint all palindrome numbers between 1 to 1000"
      ]
    },
    {
      "cell_type": "code",
      "metadata": {
        "id": "u2BFDwU1TWSZ",
        "colab_type": "code",
        "colab": {
          "base_uri": "https://localhost:8080/",
          "height": 1000
        },
        "outputId": "c48a1035-2faa-494f-f35a-bb1326fd9cd5"
      },
      "source": [
        "for n in range(1,1000):\n",
        "  rev=0\n",
        "  num=n\n",
        "  while num>0:\n",
        "    r=num%10\n",
        "    rev=(rev*10)+r\n",
        "    num=num//10\n",
        "  if n==rev:\n",
        "    print(n)\n"
      ],
      "execution_count": null,
      "outputs": [
        {
          "output_type": "stream",
          "text": [
            "1\n",
            "2\n",
            "3\n",
            "4\n",
            "5\n",
            "6\n",
            "7\n",
            "8\n",
            "9\n",
            "11\n",
            "22\n",
            "33\n",
            "44\n",
            "55\n",
            "66\n",
            "77\n",
            "88\n",
            "99\n",
            "101\n",
            "111\n",
            "121\n",
            "131\n",
            "141\n",
            "151\n",
            "161\n",
            "171\n",
            "181\n",
            "191\n",
            "202\n",
            "212\n",
            "222\n",
            "232\n",
            "242\n",
            "252\n",
            "262\n",
            "272\n",
            "282\n",
            "292\n",
            "303\n",
            "313\n",
            "323\n",
            "333\n",
            "343\n",
            "353\n",
            "363\n",
            "373\n",
            "383\n",
            "393\n",
            "404\n",
            "414\n",
            "424\n",
            "434\n",
            "444\n",
            "454\n",
            "464\n",
            "474\n",
            "484\n",
            "494\n",
            "505\n",
            "515\n",
            "525\n",
            "535\n",
            "545\n",
            "555\n",
            "565\n",
            "575\n",
            "585\n",
            "595\n",
            "606\n",
            "616\n",
            "626\n",
            "636\n",
            "646\n",
            "656\n",
            "666\n",
            "676\n",
            "686\n",
            "696\n",
            "707\n",
            "717\n",
            "727\n",
            "737\n",
            "747\n",
            "757\n",
            "767\n",
            "777\n",
            "787\n",
            "797\n",
            "808\n",
            "818\n",
            "828\n",
            "838\n",
            "848\n",
            "858\n",
            "868\n",
            "878\n",
            "888\n",
            "898\n",
            "909\n",
            "919\n",
            "929\n",
            "939\n",
            "949\n",
            "959\n",
            "969\n",
            "979\n",
            "989\n",
            "999\n"
          ],
          "name": "stdout"
        }
      ]
    },
    {
      "cell_type": "markdown",
      "metadata": {
        "id": "5fwG_bdjTWhw",
        "colab_type": "text"
      },
      "source": [
        "9.\tPrint all Armstrong numbers between 1 to 1000"
      ]
    },
    {
      "cell_type": "code",
      "metadata": {
        "id": "PpmVYnpXTb5A",
        "colab_type": "code",
        "colab": {
          "base_uri": "https://localhost:8080/",
          "height": 101
        },
        "outputId": "1dae9b12-c146-4ab6-e89b-33eb1043a3f4"
      },
      "source": [
        "for num in range(1,1000):\n",
        "   sum = 0\n",
        "   temp = num\n",
        "   while temp > 0:\n",
        "       digit = temp % 10\n",
        "       sum += digit ** 3\n",
        "       temp //= 10 \n",
        "   if num == sum:\n",
        "       print(num)"
      ],
      "execution_count": null,
      "outputs": [
        {
          "output_type": "stream",
          "text": [
            "1\n",
            "153\n",
            "370\n",
            "371\n",
            "407\n"
          ],
          "name": "stdout"
        }
      ]
    },
    {
      "cell_type": "markdown",
      "metadata": {
        "id": "WNqEmc2jTcUg",
        "colab_type": "text"
      },
      "source": [
        "10.\tWrite a Java program which iterates the integers from 1 to 100. For multiples of three print \"Fizz\" instead of the number and print \"Buzz\" for the multiples of five. When number is divided by both three and five, print \"fizz buzz\"."
      ]
    },
    {
      "cell_type": "code",
      "metadata": {
        "id": "3lu6L_yPThs6",
        "colab_type": "code",
        "colab": {
          "base_uri": "https://localhost:8080/",
          "height": 1000
        },
        "outputId": "1653fa92-29ea-4c22-8dbb-1edc66e0a087"
      },
      "source": [
        "for n in range(1,100):\n",
        "  if n%3==0 and n%5==0 :\n",
        "    print(\"Fizz Buzz\")\n",
        "  elif n%5==0 :\n",
        "    print(\"Buzz\")\n",
        "  elif n%3==0 :\n",
        "    print(\"Fizz\")\n",
        "  else :\n",
        "   print(n)"
      ],
      "execution_count": null,
      "outputs": [
        {
          "output_type": "stream",
          "text": [
            "1\n",
            "2\n",
            "Fizz\n",
            "4\n",
            "Buzz\n",
            "Fizz\n",
            "7\n",
            "8\n",
            "Fizz\n",
            "Buzz\n",
            "11\n",
            "Fizz\n",
            "13\n",
            "14\n",
            "Fizz Buzz\n",
            "16\n",
            "17\n",
            "Fizz\n",
            "19\n",
            "Buzz\n",
            "Fizz\n",
            "22\n",
            "23\n",
            "Fizz\n",
            "Buzz\n",
            "26\n",
            "Fizz\n",
            "28\n",
            "29\n",
            "Fizz Buzz\n",
            "31\n",
            "32\n",
            "Fizz\n",
            "34\n",
            "Buzz\n",
            "Fizz\n",
            "37\n",
            "38\n",
            "Fizz\n",
            "Buzz\n",
            "41\n",
            "Fizz\n",
            "43\n",
            "44\n",
            "Fizz Buzz\n",
            "46\n",
            "47\n",
            "Fizz\n",
            "49\n",
            "Buzz\n",
            "Fizz\n",
            "52\n",
            "53\n",
            "Fizz\n",
            "Buzz\n",
            "56\n",
            "Fizz\n",
            "58\n",
            "59\n",
            "Fizz Buzz\n",
            "61\n",
            "62\n",
            "Fizz\n",
            "64\n",
            "Buzz\n",
            "Fizz\n",
            "67\n",
            "68\n",
            "Fizz\n",
            "Buzz\n",
            "71\n",
            "Fizz\n",
            "73\n",
            "74\n",
            "Fizz Buzz\n",
            "76\n",
            "77\n",
            "Fizz\n",
            "79\n",
            "Buzz\n",
            "Fizz\n",
            "82\n",
            "83\n",
            "Fizz\n",
            "Buzz\n",
            "86\n",
            "Fizz\n",
            "88\n",
            "89\n",
            "Fizz Buzz\n",
            "91\n",
            "92\n",
            "Fizz\n",
            "94\n",
            "Buzz\n",
            "Fizz\n",
            "97\n",
            "98\n",
            "Fizz\n"
          ],
          "name": "stdout"
        }
      ]
    },
    {
      "cell_type": "markdown",
      "metadata": {
        "id": "Up28GDhZTiAI",
        "colab_type": "text"
      },
      "source": [
        "11.\tSpider Problem: A spider present at the bottom of the well of height H, needs to get out of it, using the slippery wall of the well. It decides to climb up the well; it goes up U meters and slips down D meters in one single step. So, in each step it covers (U-D) meters, and if the spider gets out of the well by covering U meters in the last step it doesn’t a slip back. For example, if the spider climbs up 5 meters and slips down by 3 meters in a single step, it covers (U - D) m in each step and 96 m in 48 steps, but in the 49th step it climbs up 5 m and reaches out of the well and it will not slip down and the step is counted as one step.     \n",
        "Input: Each test case will contain 3 integers ’H’ height of the well, next ’U’ meters climbs up in each step, and the last ’D’ meters slips down in each step.\n",
        "Output:  The number of steps 'N' required to get out of the well.\n"
      ]
    },
    {
      "cell_type": "code",
      "metadata": {
        "id": "bfNLl6Qd9LkF",
        "colab_type": "code",
        "colab": {
          "base_uri": "https://localhost:8080/",
          "height": 134
        },
        "outputId": "4e0950b2-b922-4b6d-8ca7-fbb299825ea2"
      },
      "source": [
        "h=int(input(\"enter the height of the well\\n\"))\n",
        "u=int(input(\"enter the distance spider climbs in each step\\n\"))\n",
        "d=int(input(\"enter the distance spider slips down in each step\\n\"))\n",
        "sum=0\n",
        "while h>=u:\n",
        "  sum+=1\n",
        "  h-=u-d\n",
        "sum+=1\n",
        "print(\"the number of steps\",sum)"
      ],
      "execution_count": null,
      "outputs": [
        {
          "output_type": "stream",
          "text": [
            "enter the height of the well\n",
            "500\n",
            "enter the distance spider climbs in each step\n",
            "20\n",
            "enter the distance spider slips down in each step\n",
            "15\n",
            "the number of steps 98\n"
          ],
          "name": "stdout"
        }
      ]
    }
  ]
}